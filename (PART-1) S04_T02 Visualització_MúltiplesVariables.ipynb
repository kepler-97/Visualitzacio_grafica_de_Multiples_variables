{
 "cells": [
  {
   "cell_type": "markdown",
   "id": "b170d1bb",
   "metadata": {},
   "source": [
    "S04_T02 Visualització_de_Múltiples_Variables\n",
    "---\n",
    "![Tree](tree2.jpg)\n",
    "*PART_1*"
   ]
  },
  {
   "cell_type": "markdown",
   "id": "6bea4a6e",
   "metadata": {},
   "source": [
    "# EXERCICI_1"
   ]
  },
  {
   "cell_type": "markdown",
   "id": "caf33919",
   "metadata": {},
   "source": [
    "DATA_EXPLORATION\n",
    "---"
   ]
  },
  {
   "cell_type": "code",
   "execution_count": 13,
   "id": "b6a2a76f",
   "metadata": {
    "ExecuteTime": {
     "end_time": "2021-11-09T19:38:05.718190Z",
     "start_time": "2021-11-09T19:38:05.712704Z"
    }
   },
   "outputs": [],
   "source": [
    "# importing libraries\n",
    "import numpy as np\n",
    "import pandas as pd\n",
    "import matplotlib.pyplot as plt\n",
    "import seaborn as sns\n",
    "\n",
    "%matplotlib inline"
   ]
  },
  {
   "cell_type": "code",
   "execution_count": 15,
   "id": "e737f2e8",
   "metadata": {
    "ExecuteTime": {
     "end_time": "2021-11-09T19:38:11.402533Z",
     "start_time": "2021-11-09T19:38:11.377218Z"
    },
    "scrolled": true
   },
   "outputs": [
    {
     "data": {
      "text/html": [
       "<div>\n",
       "<style scoped>\n",
       "    .dataframe tbody tr th:only-of-type {\n",
       "        vertical-align: middle;\n",
       "    }\n",
       "\n",
       "    .dataframe tbody tr th {\n",
       "        vertical-align: top;\n",
       "    }\n",
       "\n",
       "    .dataframe thead th {\n",
       "        text-align: right;\n",
       "    }\n",
       "</style>\n",
       "<table border=\"1\" class=\"dataframe\">\n",
       "  <thead>\n",
       "    <tr style=\"text-align: right;\">\n",
       "      <th></th>\n",
       "      <th>total_bill</th>\n",
       "      <th>tip</th>\n",
       "      <th>sex</th>\n",
       "      <th>smoker</th>\n",
       "      <th>day</th>\n",
       "      <th>time</th>\n",
       "      <th>size</th>\n",
       "    </tr>\n",
       "  </thead>\n",
       "  <tbody>\n",
       "    <tr>\n",
       "      <th>0</th>\n",
       "      <td>16.99</td>\n",
       "      <td>1.01</td>\n",
       "      <td>Female</td>\n",
       "      <td>No</td>\n",
       "      <td>Sun</td>\n",
       "      <td>Dinner</td>\n",
       "      <td>2</td>\n",
       "    </tr>\n",
       "    <tr>\n",
       "      <th>40</th>\n",
       "      <td>16.04</td>\n",
       "      <td>2.24</td>\n",
       "      <td>Male</td>\n",
       "      <td>No</td>\n",
       "      <td>Sat</td>\n",
       "      <td>Dinner</td>\n",
       "      <td>3</td>\n",
       "    </tr>\n",
       "    <tr>\n",
       "      <th>80</th>\n",
       "      <td>19.44</td>\n",
       "      <td>3.00</td>\n",
       "      <td>Male</td>\n",
       "      <td>Yes</td>\n",
       "      <td>Thur</td>\n",
       "      <td>Lunch</td>\n",
       "      <td>2</td>\n",
       "    </tr>\n",
       "    <tr>\n",
       "      <th>120</th>\n",
       "      <td>11.69</td>\n",
       "      <td>2.31</td>\n",
       "      <td>Male</td>\n",
       "      <td>No</td>\n",
       "      <td>Thur</td>\n",
       "      <td>Lunch</td>\n",
       "      <td>2</td>\n",
       "    </tr>\n",
       "    <tr>\n",
       "      <th>160</th>\n",
       "      <td>21.50</td>\n",
       "      <td>3.50</td>\n",
       "      <td>Male</td>\n",
       "      <td>No</td>\n",
       "      <td>Sun</td>\n",
       "      <td>Dinner</td>\n",
       "      <td>4</td>\n",
       "    </tr>\n",
       "    <tr>\n",
       "      <th>200</th>\n",
       "      <td>18.71</td>\n",
       "      <td>4.00</td>\n",
       "      <td>Male</td>\n",
       "      <td>Yes</td>\n",
       "      <td>Thur</td>\n",
       "      <td>Lunch</td>\n",
       "      <td>3</td>\n",
       "    </tr>\n",
       "    <tr>\n",
       "      <th>240</th>\n",
       "      <td>27.18</td>\n",
       "      <td>2.00</td>\n",
       "      <td>Female</td>\n",
       "      <td>Yes</td>\n",
       "      <td>Sat</td>\n",
       "      <td>Dinner</td>\n",
       "      <td>2</td>\n",
       "    </tr>\n",
       "  </tbody>\n",
       "</table>\n",
       "</div>"
      ],
      "text/plain": [
       "     total_bill   tip     sex smoker   day    time  size\n",
       "0         16.99  1.01  Female     No   Sun  Dinner     2\n",
       "40        16.04  2.24    Male     No   Sat  Dinner     3\n",
       "80        19.44  3.00    Male    Yes  Thur   Lunch     2\n",
       "120       11.69  2.31    Male     No  Thur   Lunch     2\n",
       "160       21.50  3.50    Male     No   Sun  Dinner     4\n",
       "200       18.71  4.00    Male    Yes  Thur   Lunch     3\n",
       "240       27.18  2.00  Female    Yes   Sat  Dinner     2"
      ]
     },
     "execution_count": 15,
     "metadata": {},
     "output_type": "execute_result"
    }
   ],
   "source": [
    "# DATAFRAME\n",
    "tips = pd.read_csv('tips.csv')\n",
    "tips[::40] # muestra el dataframe de 40 en 40"
   ]
  },
  {
   "cell_type": "markdown",
   "id": "fe7d9baf",
   "metadata": {},
   "source": [
    "## NUMERICAL DATA\n",
    "---"
   ]
  },
  {
   "cell_type": "markdown",
   "id": "5095515d",
   "metadata": {},
   "source": [
    "> Podemos ver que los tipos de datos son los correctos y no supondrán un problema en el momento de graficar  \n",
    "o realizar cálculos."
   ]
  },
  {
   "cell_type": "code",
   "execution_count": 28,
   "id": "16a71132",
   "metadata": {
    "ExecuteTime": {
     "end_time": "2021-10-26T17:04:00.201733Z",
     "start_time": "2021-10-26T17:04:00.189911Z"
    }
   },
   "outputs": [
    {
     "data": {
      "text/plain": [
       "total_bill    float64\n",
       "tip           float64\n",
       "sex            object\n",
       "smoker         object\n",
       "day            object\n",
       "time           object\n",
       "size            int64\n",
       "dtype: object"
      ]
     },
     "execution_count": 28,
     "metadata": {},
     "output_type": "execute_result"
    }
   ],
   "source": [
    "# Checking dataset variables\n",
    "tips.dtypes"
   ]
  },
  {
   "cell_type": "markdown",
   "id": "fe91dd3a",
   "metadata": {},
   "source": [
    "> La forma del dataset es de 244 filas por 7 columnas."
   ]
  },
  {
   "cell_type": "code",
   "execution_count": 29,
   "id": "323a3f49",
   "metadata": {
    "ExecuteTime": {
     "end_time": "2021-10-26T17:04:01.206595Z",
     "start_time": "2021-10-26T17:04:01.198543Z"
    },
    "code_folding": []
   },
   "outputs": [
    {
     "data": {
      "text/plain": [
       "(244, 7)"
      ]
     },
     "execution_count": 29,
     "metadata": {},
     "output_type": "execute_result"
    }
   ],
   "source": [
    "# dataframe nº of rows and columns\n",
    "tips.shape"
   ]
  },
  {
   "cell_type": "markdown",
   "id": "b4001cd1",
   "metadata": {},
   "source": [
    "> A veces los datasets tienen muchas filas que no se pueden visibilizar del todo, '.columns' muestra todas las  \n",
    "variables del dataset. En este caso no descartaré ninguna variable, considero que todas son importantes y  \n",
    "pueden aportar valor al analisis."
   ]
  },
  {
   "cell_type": "code",
   "execution_count": 30,
   "id": "80392290",
   "metadata": {
    "ExecuteTime": {
     "end_time": "2021-10-26T17:04:02.216356Z",
     "start_time": "2021-10-26T17:04:02.209614Z"
    },
    "code_folding": []
   },
   "outputs": [
    {
     "data": {
      "text/plain": [
       "Index(['total_bill', 'tip', 'sex', 'smoker', 'day', 'time', 'size'], dtype='object')"
      ]
     },
     "execution_count": 30,
     "metadata": {},
     "output_type": "execute_result"
    }
   ],
   "source": [
    "# dataframe column names\n",
    "tips.columns"
   ]
  },
  {
   "cell_type": "markdown",
   "id": "3839a58f",
   "metadata": {},
   "source": [
    "> El resumen estadístico aporta información relavante sobre el dataset. Aunque no puedo extraer conclusiones   \n",
    "sobre la población, los estadísticos indican cómo se organiza el grupo de datos."
   ]
  },
  {
   "cell_type": "code",
   "execution_count": 31,
   "id": "a63fcac5",
   "metadata": {
    "ExecuteTime": {
     "end_time": "2021-10-26T17:04:03.236884Z",
     "start_time": "2021-10-26T17:04:03.204420Z"
    },
    "code_folding": [],
    "scrolled": true
   },
   "outputs": [
    {
     "data": {
      "text/html": [
       "<div>\n",
       "<style scoped>\n",
       "    .dataframe tbody tr th:only-of-type {\n",
       "        vertical-align: middle;\n",
       "    }\n",
       "\n",
       "    .dataframe tbody tr th {\n",
       "        vertical-align: top;\n",
       "    }\n",
       "\n",
       "    .dataframe thead th {\n",
       "        text-align: right;\n",
       "    }\n",
       "</style>\n",
       "<table border=\"1\" class=\"dataframe\">\n",
       "  <thead>\n",
       "    <tr style=\"text-align: right;\">\n",
       "      <th></th>\n",
       "      <th>total_bill</th>\n",
       "      <th>tip</th>\n",
       "      <th>size</th>\n",
       "    </tr>\n",
       "  </thead>\n",
       "  <tbody>\n",
       "    <tr>\n",
       "      <th>count</th>\n",
       "      <td>244.00</td>\n",
       "      <td>244.00</td>\n",
       "      <td>244.00</td>\n",
       "    </tr>\n",
       "    <tr>\n",
       "      <th>mean</th>\n",
       "      <td>19.79</td>\n",
       "      <td>3.00</td>\n",
       "      <td>2.57</td>\n",
       "    </tr>\n",
       "    <tr>\n",
       "      <th>std</th>\n",
       "      <td>8.90</td>\n",
       "      <td>1.38</td>\n",
       "      <td>0.95</td>\n",
       "    </tr>\n",
       "    <tr>\n",
       "      <th>min</th>\n",
       "      <td>3.07</td>\n",
       "      <td>1.00</td>\n",
       "      <td>1.00</td>\n",
       "    </tr>\n",
       "    <tr>\n",
       "      <th>25%</th>\n",
       "      <td>13.35</td>\n",
       "      <td>2.00</td>\n",
       "      <td>2.00</td>\n",
       "    </tr>\n",
       "    <tr>\n",
       "      <th>50%</th>\n",
       "      <td>17.80</td>\n",
       "      <td>2.90</td>\n",
       "      <td>2.00</td>\n",
       "    </tr>\n",
       "    <tr>\n",
       "      <th>75%</th>\n",
       "      <td>24.13</td>\n",
       "      <td>3.56</td>\n",
       "      <td>3.00</td>\n",
       "    </tr>\n",
       "    <tr>\n",
       "      <th>max</th>\n",
       "      <td>50.81</td>\n",
       "      <td>10.00</td>\n",
       "      <td>6.00</td>\n",
       "    </tr>\n",
       "  </tbody>\n",
       "</table>\n",
       "</div>"
      ],
      "text/plain": [
       "       total_bill     tip    size\n",
       "count      244.00  244.00  244.00\n",
       "mean        19.79    3.00    2.57\n",
       "std          8.90    1.38    0.95\n",
       "min          3.07    1.00    1.00\n",
       "25%         13.35    2.00    2.00\n",
       "50%         17.80    2.90    2.00\n",
       "75%         24.13    3.56    3.00\n",
       "max         50.81   10.00    6.00"
      ]
     },
     "execution_count": 31,
     "metadata": {},
     "output_type": "execute_result"
    }
   ],
   "source": [
    "# Descriptive statistics:\n",
    "tips.describe().round(2)"
   ]
  },
  {
   "cell_type": "markdown",
   "id": "04c0a6d8",
   "metadata": {},
   "source": [
    "> Datos duplicados de ''tips.csv''."
   ]
  },
  {
   "cell_type": "code",
   "execution_count": 32,
   "id": "bb2625b2",
   "metadata": {
    "ExecuteTime": {
     "end_time": "2021-10-26T17:04:04.242523Z",
     "start_time": "2021-10-26T17:04:04.230030Z"
    }
   },
   "outputs": [
    {
     "name": "stdout",
     "output_type": "stream",
     "text": [
      "Number of duplicate rows:  (1, 7)\n"
     ]
    }
   ],
   "source": [
    "tips_duplicate = tips[tips.duplicated()]\n",
    "print('Number of duplicate rows: ', tips_duplicate.shape)"
   ]
  },
  {
   "cell_type": "markdown",
   "id": "3014a243",
   "metadata": {},
   "source": [
    "> Removiendo todos los datos duplicados. Podemos ver mas abajo que ya no hay valores duplicados."
   ]
  },
  {
   "cell_type": "code",
   "execution_count": 37,
   "id": "9a221edb",
   "metadata": {
    "ExecuteTime": {
     "end_time": "2021-10-26T17:05:00.454959Z",
     "start_time": "2021-10-26T17:05:00.432110Z"
    },
    "scrolled": false
   },
   "outputs": [
    {
     "data": {
      "text/html": [
       "<div>\n",
       "<style scoped>\n",
       "    .dataframe tbody tr th:only-of-type {\n",
       "        vertical-align: middle;\n",
       "    }\n",
       "\n",
       "    .dataframe tbody tr th {\n",
       "        vertical-align: top;\n",
       "    }\n",
       "\n",
       "    .dataframe thead th {\n",
       "        text-align: right;\n",
       "    }\n",
       "</style>\n",
       "<table border=\"1\" class=\"dataframe\">\n",
       "  <thead>\n",
       "    <tr style=\"text-align: right;\">\n",
       "      <th></th>\n",
       "      <th>total_bill</th>\n",
       "      <th>tip</th>\n",
       "      <th>sex</th>\n",
       "      <th>smoker</th>\n",
       "      <th>day</th>\n",
       "      <th>time</th>\n",
       "      <th>size</th>\n",
       "    </tr>\n",
       "  </thead>\n",
       "  <tbody>\n",
       "    <tr>\n",
       "      <th>236</th>\n",
       "      <td>12.60</td>\n",
       "      <td>1.00</td>\n",
       "      <td>Male</td>\n",
       "      <td>Yes</td>\n",
       "      <td>Sat</td>\n",
       "      <td>Dinner</td>\n",
       "      <td>2</td>\n",
       "    </tr>\n",
       "    <tr>\n",
       "      <th>237</th>\n",
       "      <td>32.83</td>\n",
       "      <td>1.17</td>\n",
       "      <td>Male</td>\n",
       "      <td>Yes</td>\n",
       "      <td>Sat</td>\n",
       "      <td>Dinner</td>\n",
       "      <td>2</td>\n",
       "    </tr>\n",
       "    <tr>\n",
       "      <th>238</th>\n",
       "      <td>35.83</td>\n",
       "      <td>4.67</td>\n",
       "      <td>Female</td>\n",
       "      <td>No</td>\n",
       "      <td>Sat</td>\n",
       "      <td>Dinner</td>\n",
       "      <td>3</td>\n",
       "    </tr>\n",
       "    <tr>\n",
       "      <th>239</th>\n",
       "      <td>29.03</td>\n",
       "      <td>5.92</td>\n",
       "      <td>Male</td>\n",
       "      <td>No</td>\n",
       "      <td>Sat</td>\n",
       "      <td>Dinner</td>\n",
       "      <td>3</td>\n",
       "    </tr>\n",
       "    <tr>\n",
       "      <th>240</th>\n",
       "      <td>27.18</td>\n",
       "      <td>2.00</td>\n",
       "      <td>Female</td>\n",
       "      <td>Yes</td>\n",
       "      <td>Sat</td>\n",
       "      <td>Dinner</td>\n",
       "      <td>2</td>\n",
       "    </tr>\n",
       "    <tr>\n",
       "      <th>241</th>\n",
       "      <td>22.67</td>\n",
       "      <td>2.00</td>\n",
       "      <td>Male</td>\n",
       "      <td>Yes</td>\n",
       "      <td>Sat</td>\n",
       "      <td>Dinner</td>\n",
       "      <td>2</td>\n",
       "    </tr>\n",
       "    <tr>\n",
       "      <th>242</th>\n",
       "      <td>17.82</td>\n",
       "      <td>1.75</td>\n",
       "      <td>Male</td>\n",
       "      <td>No</td>\n",
       "      <td>Sat</td>\n",
       "      <td>Dinner</td>\n",
       "      <td>2</td>\n",
       "    </tr>\n",
       "    <tr>\n",
       "      <th>243</th>\n",
       "      <td>18.78</td>\n",
       "      <td>3.00</td>\n",
       "      <td>Female</td>\n",
       "      <td>No</td>\n",
       "      <td>Thur</td>\n",
       "      <td>Dinner</td>\n",
       "      <td>2</td>\n",
       "    </tr>\n",
       "  </tbody>\n",
       "</table>\n",
       "</div>"
      ],
      "text/plain": [
       "     total_bill   tip     sex smoker   day    time  size\n",
       "236       12.60  1.00    Male    Yes   Sat  Dinner     2\n",
       "237       32.83  1.17    Male    Yes   Sat  Dinner     2\n",
       "238       35.83  4.67  Female     No   Sat  Dinner     3\n",
       "239       29.03  5.92    Male     No   Sat  Dinner     3\n",
       "240       27.18  2.00  Female    Yes   Sat  Dinner     2\n",
       "241       22.67  2.00    Male    Yes   Sat  Dinner     2\n",
       "242       17.82  1.75    Male     No   Sat  Dinner     2\n",
       "243       18.78  3.00  Female     No  Thur  Dinner     2"
      ]
     },
     "execution_count": 37,
     "metadata": {},
     "output_type": "execute_result"
    }
   ],
   "source": [
    "tips = tips.drop_duplicates()\n",
    "tips.tail(8)"
   ]
  },
  {
   "cell_type": "code",
   "execution_count": 41,
   "id": "e75c9173",
   "metadata": {
    "ExecuteTime": {
     "end_time": "2021-10-26T17:19:04.641968Z",
     "start_time": "2021-10-26T17:19:04.632166Z"
    }
   },
   "outputs": [
    {
     "name": "stdout",
     "output_type": "stream",
     "text": [
      "Number of duplicate rows:  (0, 7)\n"
     ]
    }
   ],
   "source": [
    "tips_duplicate = tips[tips.duplicated()]\n",
    "print('Number of duplicate rows: ', tips_duplicate.shape)"
   ]
  },
  {
   "cell_type": "markdown",
   "id": "3382c2e8",
   "metadata": {},
   "source": [
    "> No he encontrado ''null o missing values'', por lo tanto no hay que aplicar ''tips.dropna()'' para eliminar los ''missing value''."
   ]
  },
  {
   "cell_type": "code",
   "execution_count": 40,
   "id": "fe3cfa52",
   "metadata": {
    "ExecuteTime": {
     "end_time": "2021-10-26T17:06:24.840128Z",
     "start_time": "2021-10-26T17:06:24.828106Z"
    }
   },
   "outputs": [
    {
     "data": {
      "text/plain": [
       "total_bill    0\n",
       "tip           0\n",
       "sex           0\n",
       "smoker        0\n",
       "day           0\n",
       "time          0\n",
       "size          0\n",
       "dtype: int64"
      ]
     },
     "execution_count": 40,
     "metadata": {},
     "output_type": "execute_result"
    }
   ],
   "source": [
    "tips.isnull().sum()"
   ]
  },
  {
   "cell_type": "markdown",
   "id": "14a1a2cf",
   "metadata": {},
   "source": [
    "### HEATMAP CORRELATION MATRIX\n",
    "---\n",
    "> Heatmap is a graph that contains the correlations of the variables. The colors indicate the intensity of the correlation.  \n",
    "In this case, the more intense and concentrated colors indicate a strong positive correlation, while the weaker or   \n",
    "lighter colors indicate a not relevant correlation.\n"
   ]
  },
  {
   "cell_type": "code",
   "execution_count": 43,
   "id": "72a19c2d",
   "metadata": {
    "ExecuteTime": {
     "end_time": "2021-10-26T17:37:02.831371Z",
     "start_time": "2021-10-26T17:37:02.816433Z"
    },
    "scrolled": true
   },
   "outputs": [
    {
     "data": {
      "text/html": [
       "<div>\n",
       "<style scoped>\n",
       "    .dataframe tbody tr th:only-of-type {\n",
       "        vertical-align: middle;\n",
       "    }\n",
       "\n",
       "    .dataframe tbody tr th {\n",
       "        vertical-align: top;\n",
       "    }\n",
       "\n",
       "    .dataframe thead th {\n",
       "        text-align: right;\n",
       "    }\n",
       "</style>\n",
       "<table border=\"1\" class=\"dataframe\">\n",
       "  <thead>\n",
       "    <tr style=\"text-align: right;\">\n",
       "      <th></th>\n",
       "      <th>total_bill</th>\n",
       "      <th>tip</th>\n",
       "      <th>size</th>\n",
       "    </tr>\n",
       "  </thead>\n",
       "  <tbody>\n",
       "    <tr>\n",
       "      <th>total_bill</th>\n",
       "      <td>1.000000</td>\n",
       "      <td>0.674998</td>\n",
       "      <td>0.597589</td>\n",
       "    </tr>\n",
       "    <tr>\n",
       "      <th>tip</th>\n",
       "      <td>0.674998</td>\n",
       "      <td>1.000000</td>\n",
       "      <td>0.488400</td>\n",
       "    </tr>\n",
       "    <tr>\n",
       "      <th>size</th>\n",
       "      <td>0.597589</td>\n",
       "      <td>0.488400</td>\n",
       "      <td>1.000000</td>\n",
       "    </tr>\n",
       "  </tbody>\n",
       "</table>\n",
       "</div>"
      ],
      "text/plain": [
       "            total_bill       tip      size\n",
       "total_bill    1.000000  0.674998  0.597589\n",
       "tip           0.674998  1.000000  0.488400\n",
       "size          0.597589  0.488400  1.000000"
      ]
     },
     "execution_count": 43,
     "metadata": {},
     "output_type": "execute_result"
    }
   ],
   "source": [
    "# Data correlation matrix: Shows the correlation between the variables\n",
    "tips.corr()"
   ]
  },
  {
   "cell_type": "markdown",
   "id": "ceee4727",
   "metadata": {},
   "source": [
    "> En este Heatmap correlation podemos observar las correlaciones entre las variables cuantitativas del dataframe:  \n",
    "En orden descendente, 'tip' y 'size' no tienen una correlación muy elevada, inferior a 0.5, esto indica que el número de personas por mesa no influye tanto en la cantidad de propina como podriamos llegar a pensar.  \n",
    "\n",
    "> Segundo, 'total_bill' y 'size' están correlacionados moderadamente. Serie de esperar una correlación mas fuerte entre estas dos variables ya que cuántas mas personas por mesa mayor es el total de la factura 'total_bill'. Esta correlación no es tan relevante como podríamos esperar, esto se explica con menor grupo por persona en cada mesa.\n",
    "\n",
    "> Tercero, 'total_bill' y 'tip' tienen una fuerte correlación. La variable 'tip' se recoge en el total de la factura 'total_bill' y por ese motivo la correlación entre estas dos variables es bastante fuerte."
   ]
  },
  {
   "cell_type": "code",
   "execution_count": 4,
   "id": "66ac3ab5",
   "metadata": {
    "ExecuteTime": {
     "end_time": "2021-11-08T13:38:32.973871Z",
     "start_time": "2021-11-08T13:38:32.705930Z"
    },
    "code_folding": []
   },
   "outputs": [
    {
     "data": {
      "image/png": "[encoded data removed]",
      "text/plain": [
       "<Figure size 600x400 with 2 Axes>"
      ]
     },
     "metadata": {
      "needs_background": "light"
     },
     "output_type": "display_data"
    }
   ],
   "source": [
    "# FIGURE\n",
    "fig, ax = plt.subplots(dpi=100)\n",
    "\n",
    "# CUSTOMIZE\n",
    "ax.set_title('Heatmap correlation', fontsize=10)\n",
    "\n",
    "# PLOT\n",
    "sns.heatmap(data=tips.corr(), vmin=0.4, vmax=1, ax=ax, annot=True, \n",
    "            fmt='.3f', \n",
    "            cmap='YlGnBu', cbar=True, \n",
    "            cbar_kws={'label': 'Correlation intensity',\n",
    "                      'orientation': 'vertical'});\n"
   ]
  },
  {
   "cell_type": "markdown",
   "id": "484d3329",
   "metadata": {},
   "source": [
    "### SCATTER PLOT\n",
    "---\n",
    "\n",
    "> A scatterplot in which the values of two variables are plotted along two axes, the pattern of the resulting points   \n",
    "  reveals **any correlation present, the direction of the correlation, and its intensity**."
   ]
  },
  {
   "cell_type": "code",
   "execution_count": 20,
   "id": "7a439762",
   "metadata": {
    "ExecuteTime": {
     "end_time": "2021-10-20T18:31:35.853512Z",
     "start_time": "2021-10-20T18:31:35.834302Z"
    },
    "scrolled": true
   },
   "outputs": [
    {
     "data": {
      "text/html": [
       "<div>\n",
       "<style scoped>\n",
       "    .dataframe tbody tr th:only-of-type {\n",
       "        vertical-align: middle;\n",
       "    }\n",
       "\n",
       "    .dataframe tbody tr th {\n",
       "        vertical-align: top;\n",
       "    }\n",
       "\n",
       "    .dataframe thead th {\n",
       "        text-align: right;\n",
       "    }\n",
       "</style>\n",
       "<table border=\"1\" class=\"dataframe\">\n",
       "  <thead>\n",
       "    <tr style=\"text-align: right;\">\n",
       "      <th></th>\n",
       "      <th>total_bill</th>\n",
       "      <th>tip</th>\n",
       "      <th>sex</th>\n",
       "      <th>smoker</th>\n",
       "      <th>day</th>\n",
       "      <th>time</th>\n",
       "      <th>size</th>\n",
       "    </tr>\n",
       "  </thead>\n",
       "  <tbody>\n",
       "    <tr>\n",
       "      <th>0</th>\n",
       "      <td>16.99</td>\n",
       "      <td>1.01</td>\n",
       "      <td>Female</td>\n",
       "      <td>No</td>\n",
       "      <td>Sun</td>\n",
       "      <td>Dinner</td>\n",
       "      <td>2</td>\n",
       "    </tr>\n",
       "    <tr>\n",
       "      <th>1</th>\n",
       "      <td>10.34</td>\n",
       "      <td>1.66</td>\n",
       "      <td>Male</td>\n",
       "      <td>No</td>\n",
       "      <td>Sun</td>\n",
       "      <td>Dinner</td>\n",
       "      <td>3</td>\n",
       "    </tr>\n",
       "    <tr>\n",
       "      <th>2</th>\n",
       "      <td>21.01</td>\n",
       "      <td>3.50</td>\n",
       "      <td>Male</td>\n",
       "      <td>No</td>\n",
       "      <td>Sun</td>\n",
       "      <td>Dinner</td>\n",
       "      <td>3</td>\n",
       "    </tr>\n",
       "    <tr>\n",
       "      <th>3</th>\n",
       "      <td>23.68</td>\n",
       "      <td>3.31</td>\n",
       "      <td>Male</td>\n",
       "      <td>No</td>\n",
       "      <td>Sun</td>\n",
       "      <td>Dinner</td>\n",
       "      <td>2</td>\n",
       "    </tr>\n",
       "    <tr>\n",
       "      <th>4</th>\n",
       "      <td>24.59</td>\n",
       "      <td>3.61</td>\n",
       "      <td>Female</td>\n",
       "      <td>No</td>\n",
       "      <td>Sun</td>\n",
       "      <td>Dinner</td>\n",
       "      <td>4</td>\n",
       "    </tr>\n",
       "  </tbody>\n",
       "</table>\n",
       "</div>"
      ],
      "text/plain": [
       "   total_bill   tip     sex smoker  day    time  size\n",
       "0       16.99  1.01  Female     No  Sun  Dinner     2\n",
       "1       10.34  1.66    Male     No  Sun  Dinner     3\n",
       "2       21.01  3.50    Male     No  Sun  Dinner     3\n",
       "3       23.68  3.31    Male     No  Sun  Dinner     2\n",
       "4       24.59  3.61  Female     No  Sun  Dinner     4"
      ]
     },
     "execution_count": 20,
     "metadata": {},
     "output_type": "execute_result"
    }
   ],
   "source": [
    "tips.head()"
   ]
  },
  {
   "cell_type": "markdown",
   "id": "ca882f99",
   "metadata": {},
   "source": [
    "> Podemos observar cómo 'tip' esta positivamente correlacionada con el total de la factura. Es decir, la factura total 'total_bill' incluye la propina y por lo tanto aumenta el total de la factura.  \n",
    "En el siguiente gráfico desgloso a los clientes entre fumadores y no-fumadores. El párametro 'hue' divide a los fumadores y no fumadores por colores y el párametro 'style' los separa por figuras da una visión mas nítida.  \n",
    "  \n",
    "  (Este gráfico se complementa con el 'segundo' punto de Heatmap correlation)"
   ]
  },
  {
   "cell_type": "code",
   "execution_count": 16,
   "id": "b14c41be",
   "metadata": {
    "ExecuteTime": {
     "end_time": "2021-11-09T19:38:46.023095Z",
     "start_time": "2021-11-09T19:38:45.671956Z"
    },
    "code_folding": []
   },
   "outputs": [
    {
     "data": {
      "image/png": "[encoded data removed]",
      "text/plain": [
       "<Figure size 500x500 with 1 Axes>"
      ]
     },
     "metadata": {
      "needs_background": "light"
     },
     "output_type": "display_data"
    }
   ],
   "source": [
    "# FGURE\n",
    "f = plt.figure(figsize=(5, 5), dpi=100)\n",
    "\n",
    "# sns STYLE\n",
    "sns.set_style('darkgrid')\n",
    "\n",
    "# PLOT\n",
    "sns.scatterplot(data=tips, x='size', y='total_bill', hue='smoker', style='smoker', sizes=200);"
   ]
  },
  {
   "cell_type": "markdown",
   "id": "29e09c89",
   "metadata": {},
   "source": [
    "> total_bill and tip  \n",
    "Este scatterplot vemos la correlación de ambas variables. Previamente ya hemos explicado las causas: Tips esta incluido en el total de la factura, es por ello que tiene una correlación positiva. Es decir, cuanto mas sea la propina más aumentará el total de la factura."
   ]
  },
  {
   "cell_type": "code",
   "execution_count": 17,
   "id": "03e07eec",
   "metadata": {
    "ExecuteTime": {
     "end_time": "2021-11-09T19:38:49.683084Z",
     "start_time": "2021-11-09T19:38:49.405490Z"
    }
   },
   "outputs": [
    {
     "data": {
      "image/png": "[encoded data removed]",
      "text/plain": [
       "<Figure size 500x500 with 1 Axes>"
      ]
     },
     "metadata": {},
     "output_type": "display_data"
    }
   ],
   "source": [
    "f = plt.figure(figsize=(5, 5), dpi=100)\n",
    "sns.scatterplot(data=tips, x='tip', y='total_bill', hue='smoker', style='smoker', sizes=200);"
   ]
  },
  {
   "cell_type": "markdown",
   "id": "427de502",
   "metadata": {},
   "source": [
    "> Con stripplot permite separar los datos si es la hora de cenar o comer. Hay mas datos recogidos a la hora de cenar que en cualquier otro momento, por probalidad o lógica podemos pensar o intuir una mayor cantidad de propinas en la cena que la comida."
   ]
  },
  {
   "cell_type": "code",
   "execution_count": 18,
   "id": "d6e9a781",
   "metadata": {
    "ExecuteTime": {
     "end_time": "2021-11-09T19:38:51.436449Z",
     "start_time": "2021-11-09T19:38:51.250014Z"
    },
    "scrolled": false
   },
   "outputs": [
    {
     "data": {
      "image/png": "[encoded data removed]",
      "text/plain": [
       "<Figure size 500x500 with 1 Axes>"
      ]
     },
     "metadata": {},
     "output_type": "display_data"
    }
   ],
   "source": [
    "f = plt.figure(figsize=(5, 5), dpi=100)\n",
    "sns.stripplot(y = \"time\", x = \"total_bill\", alpha=0.35,\n",
    "              color='navy', edgecolor='black',\n",
    "              data=tips);"
   ]
  },
  {
   "cell_type": "markdown",
   "id": "5497e2d1",
   "metadata": {},
   "source": [
    "### BOX PLOT\n",
    "---"
   ]
  },
  {
   "cell_type": "code",
   "execution_count": 20,
   "id": "ed0074fe",
   "metadata": {
    "ExecuteTime": {
     "end_time": "2021-11-09T19:40:07.662859Z",
     "start_time": "2021-11-09T19:40:07.467913Z"
    },
    "code_folding": []
   },
   "outputs": [
    {
     "data": {
      "image/png": "[encoded data removed]",
      "text/plain": [
       "<Figure size 600x400 with 1 Axes>"
      ]
     },
     "metadata": {},
     "output_type": "display_data"
    }
   ],
   "source": [
    "# Figure\n",
    "plt.figure(dpi=100)\n",
    "\n",
    "# PLOT\n",
    "ax1 = sns.boxplot(x=\"tip\", y=\"time\", data=tips, showmeans = True, \n",
    "            meanprops={\"marker\": \"o\",\n",
    "                       \"markerfacecolor\":\"r\",\n",
    "                       \"markeredgecolor\": \"red\",\n",
    "                       \"markersize\": \"6.5\"},\n",
    "            orient='h', palette='Pastel1_r',\n",
    "            width = 0.3,\n",
    "            notch=False);"
   ]
  },
  {
   "cell_type": "markdown",
   "id": "8195dacb",
   "metadata": {},
   "source": [
    "+ Graph comparing 'Lunch / Dinner' and amount of 'tip':  \n",
    "In the graph above we can see how tips are distributed at lunch and dinner. In the graph above we can see how tips are distributed at lunch and dinner. We can see that tips at dinner are concentrated between 2 and almost 4 euro units per table. While at lunchtime it focuses between 2 and 3.5 units of euros per table.  \n",
    "- The median (*the gray line inside the box*): divides the box plot into two equal parts. This center position parameter indicates 50% below and 50% above. In addition, we can recognize the asymmetry or symmetry of the distribution. As we can see, the boxplot at **dinner** is longer on the left and. This makes me think that the distribution is skewed to the left (negative skew) and more dispersed data. That is, between 25% and 50% of tips are heterogeneous. Another point to take into account of the asymmetry is the 'mean', since in a symmetric distribution the measures of central tendency are equal but it is not fulfilled in this case.\n",
    "\n",
    "- While at **lunchtime** tips tend to focus more on the bottom 25%. It stands out for its negative asymmetry and very close to the first quartile. That is, 2 monetary units, it has a higher frequency than any other amount of tip. Therefore a tip of 2 monetary units is infimely less dispersed than dinner."
   ]
  }
 ],
 "metadata": {
  "kernelspec": {
   "display_name": "Python 3",
   "language": "python",
   "name": "python3"
  },
  "language_info": {
   "codemirror_mode": {
    "name": "ipython",
    "version": 3
   },
   "file_extension": ".py",
   "mimetype": "text/x-python",
   "name": "python",
   "nbconvert_exporter": "python",
   "pygments_lexer": "ipython3",
   "version": "3.8.8"
  },
  "latex_envs": {
   "LaTeX_envs_menu_present": true,
   "autoclose": false,
   "autocomplete": true,
   "bibliofile": "biblio.bib",
   "cite_by": "apalike",
   "current_citInitial": 1,
   "eqLabelWithNumbers": true,
   "eqNumInitial": 1,
   "hotkeys": {
    "equation": "Ctrl-E",
    "itemize": "Ctrl-I"
   },
   "labels_anchors": false,
   "latex_user_defs": false,
   "report_style_numbering": false,
   "user_envs_cfg": false
  },
  "nbTranslate": {
   "displayLangs": [
    "ca"
   ],
   "hotkey": "alt-t",
   "langInMainMenu": true,
   "sourceLang": "en",
   "targetLang": "ca",
   "useGoogleTranslate": true
  },
  "toc": {
   "base_numbering": 1,
   "nav_menu": {},
   "number_sections": false,
   "sideBar": false,
   "skip_h1_title": false,
   "title_cell": "Table of Contents",
   "title_sidebar": "Contents",
   "toc_cell": false,
   "toc_position": {},
   "toc_section_display": false,
   "toc_window_display": false
  }
 },
 "nbformat": 4,
 "nbformat_minor": 5
}
